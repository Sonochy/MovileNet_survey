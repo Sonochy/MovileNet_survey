{
  "nbformat": 4,
  "nbformat_minor": 0,
  "metadata": {
    "colab": {
      "name": "MobileNet_V3_vs_V2.ipynb のコピー",
      "provenance": [],
      "collapsed_sections": [],
      "include_colab_link": true
    },
    "kernelspec": {
      "name": "python3",
      "display_name": "Python 3"
    },
    "accelerator": "GPU"
  },
  "cells": [
    {
      "cell_type": "markdown",
      "metadata": {
        "id": "view-in-github",
        "colab_type": "text"
      },
      "source": [
        "<a href=\"https://colab.research.google.com/github/Sonochy/MovileNet_survey/blob/master/MobileNet_V3_vs_V2_.ipynb\" target=\"_parent\"><img src=\"https://colab.research.google.com/assets/colab-badge.svg\" alt=\"Open In Colab\"/></a>"
      ]
    },
    {
      "cell_type": "code",
      "metadata": {
        "id": "k_tUBnG240q6",
        "colab_type": "code",
        "colab": {
          "base_uri": "https://localhost:8080/",
          "height": 71
        },
        "outputId": "e9b6d28d-2081-4424-a3f9-e3ac62f308e5"
      },
      "source": [
        "%cd /content\n",
        "!git clone https://github.com/xiaochus/MobileNetV3\n",
        "%cd /content/MobileNetV3"
      ],
      "execution_count": null,
      "outputs": [
        {
          "output_type": "stream",
          "text": [
            "/content\n",
            "fatal: destination path 'MobileNetV3' already exists and is not an empty directory.\n",
            "/content/MobileNetV3\n"
          ],
          "name": "stdout"
        }
      ]
    },
    {
      "cell_type": "code",
      "metadata": {
        "id": "oklfxoDz591r",
        "colab_type": "code",
        "colab": {
          "base_uri": "https://localhost:8080/",
          "height": 71
        },
        "outputId": "c51c50b6-8c68-4604-808d-e910ce1a2590"
      },
      "source": [
        "from model.mobilenet_v3_small import MobileNetV3_Small\n",
        "import time\n",
        "import seaborn as sns\n",
        "import numpy as np\n",
        "import matplotlib.pyplot as plt\n",
        "\n",
        "from keras.optimizers import Adam\n",
        "from keras.preprocessing.image import ImageDataGenerator\n",
        "from keras.layers import Dense\n",
        "from keras.models import Model\n",
        "from keras.datasets import cifar10\n",
        "from keras.utils import to_categorical\n",
        "from keras.applications import MobileNetV2\n",
        "\n",
        "def data():\n",
        "    # dataset\n",
        "    (x_train, y_train), (x_test, y_test) = cifar10.load_data()\n",
        "\n",
        "    X_train = x_train.astype('float32') / 255\n",
        "    X_test = x_test.astype('float32') / 255\n",
        "    \n",
        "    Y_train = to_categorical(y_train)\n",
        "    Y_test = to_categorical(y_test)\n",
        "    \n",
        "    return X_train, Y_train, X_test, Y_test\n",
        "  \n",
        "\n",
        "def train_V3(epochs, alpha):\n",
        "    X_train, Y_train, X_test, Y_test = data()\n",
        "    \n",
        "    shape = (32, 32, 3)\n",
        "    classes = 10\n",
        "\n",
        "    model = MobileNetV3_Small(shape, classes, alpha).build()\n",
        "\n",
        "    opt = Adam(lr=0.001)\n",
        "    model.compile(loss='categorical_crossentropy', optimizer=opt, metrics=['accuracy'])\n",
        "\n",
        "    # Data Augmentation\n",
        "    datagen = ImageDataGenerator(rotation_range=20,\n",
        "                                 width_shift_range=0.2,\n",
        "                                 height_shift_range=0.2,\n",
        "                                 horizontal_flip=True)\n",
        "\n",
        "    #cnnの学習\n",
        "    start = time.time()\n",
        "\n",
        "    hist = model.fit_generator(datagen.flow(X_train, Y_train, batch_size=1024),\n",
        "                               steps_per_epoch=len(X_train) / 1024,\n",
        "                               validation_data=(X_test, Y_test),\n",
        "                               verbose = False,\n",
        "                               epochs=epochs)\n",
        "    \n",
        "    result_time = time.time() - start\n",
        "    \n",
        "    return model, hist, result_time\n",
        "  \n",
        "def train_V2(epochs, alpha):\n",
        "    X_train, Y_train, X_test, Y_test = data()\n",
        "  \n",
        "    shape = (32, 32, 3)\n",
        "    classes = 10\n",
        "\n",
        "    model = MobileNetV2(include_top=True, input_shape=shape, alpha=alpha, weights=None)\n",
        "    \n",
        "    # 最終層削除\n",
        "    model.layers.pop()\n",
        "    model = Model(inputs=model.input,outputs=model.layers[-1].output)\n",
        "    \n",
        "    # L2層と全結合層を付ける\n",
        "    c = Dense(classes, activation='softmax')(model.output)\n",
        "    model = Model(inputs=model.input,outputs=c)\n",
        "\n",
        "\n",
        "    opt = Adam(lr=0.001)\n",
        "    model.compile(loss='categorical_crossentropy', optimizer=opt, metrics=['accuracy'])\n",
        "\n",
        "    # Data Augmentation\n",
        "    datagen = ImageDataGenerator(rotation_range=20,\n",
        "                                 width_shift_range=0.2,\n",
        "                                 height_shift_range=0.2,\n",
        "                                 horizontal_flip=True)\n",
        "\n",
        "    #cnnの学習\n",
        "    start = time.time()\n",
        "\n",
        "    hist = model.fit_generator(datagen.flow(X_train, Y_train, batch_size=1024),\n",
        "                               steps_per_epoch=len(X_train) / 1024,\n",
        "                               validation_data=(X_test, Y_test),\n",
        "                               verbose = False,\n",
        "                               epochs=epochs)\n",
        "    \n",
        "    result_time = time.time() - start\n",
        "    \n",
        "    return model, hist, result_time\n",
        "  \n",
        "def predict_time(model):\n",
        "    result = []\n",
        "\n",
        "    for i in range(1000):\n",
        "        start = time.time()\n",
        "        model.predict(np.zeros((1,32,32,3)))\n",
        "        result.append(time.time() - start)\n",
        "    \n",
        "    return result"
      ],
      "execution_count": null,
      "outputs": [
        {
          "output_type": "stream",
          "text": [
            "Using TensorFlow backend.\n",
            "/usr/local/lib/python3.6/dist-packages/statsmodels/tools/_testing.py:19: FutureWarning: pandas.util.testing is deprecated. Use the functions in the public API at pandas.testing instead.\n",
            "  import pandas.util.testing as tm\n"
          ],
          "name": "stderr"
        }
      ]
    },
    {
      "cell_type": "markdown",
      "metadata": {
        "id": "enIbqxvvi_9x",
        "colab_type": "text"
      },
      "source": [
        "#推論時間"
      ]
    },
    {
      "cell_type": "code",
      "metadata": {
        "id": "rPWybFUdjAIo",
        "colab_type": "code",
        "colab": {
          "base_uri": "https://localhost:8080/",
          "height": 337
        },
        "outputId": "af23ea06-213d-484b-c728-a08b053d2ce5"
      },
      "source": [
        "v2_small, _, _ = train_V2(1, 0.5)\n",
        "v2, _, _ = train_V2(1, 1)\n",
        "v3_small, _, _ = train_V3(1, 0.2)\n",
        "v3, _, _ = train_V3(1, 0.5)\n",
        "\n",
        "v3_time = np.array(predict_time(v3))*1000\n",
        "v3_small_time = np.array(predict_time(v3_small))*1000\n",
        "v2_time = np.array(predict_time(v2))*1000\n",
        "v2_small_time = np.array(predict_time(v2_small))*1000\n",
        "\n",
        "label = [\"MobileNet \\nV2(0.5)\",\"MobileNet \\nV2(1)\",\"MobileNet V3\\nsmall(0.2)\",\"MobileNet V3\\nsmall(0.5)\"]\n",
        "result = [np.mean(v2_small_time), np.mean(v2_time), np.mean(v3_small_time), np.mean(v3_time)]\n",
        "sns.set_context(\"notebook\",font_scale=2)\n",
        "plt.figure(figsize=(12,4))\n",
        "plt.bar(label, result)\n",
        "plt.ylabel(\"Inference time\\n(msec)\")\n",
        "plt.show()"
      ],
      "execution_count": null,
      "outputs": [
        {
          "output_type": "stream",
          "text": [
            "Downloading data from https://www.cs.toronto.edu/~kriz/cifar-10-python.tar.gz\n",
            "170500096/170498071 [==============================] - 2s 0us/step\n"
          ],
          "name": "stdout"
        },
        {
          "output_type": "display_data",
          "data": {
            "image/png": "[encoded data removed]",
            "text/plain": [
              "<Figure size 864x288 with 1 Axes>"
            ]
          },
          "metadata": {
            "tags": [],
            "needs_background": "light"
          }
        }
      ]
    },
    {
      "cell_type": "code",
      "metadata": {
        "id": "aBuVHA30ZuUq",
        "colab_type": "code",
        "colab": {
          "base_uri": "https://localhost:8080/",
          "height": 309
        },
        "outputId": "a8cffdcb-5f07-4fe9-f501-a6b3b5a4dd24"
      },
      "source": [
        "label = [\"MobileNet \\nV2(0.5)\",\"MobileNet \\nV2(1)\",\"MobileNet V3\\nsmall(0.2)\",\"MobileNet V3\\nsmall(0.5)\"]\n",
        "result = [np.mean(v2_small_time), np.mean(v2_time), np.mean(v3_small_time), np.mean(v3_time)]\n",
        "sns.set_context(\"notebook\",font_scale=2)\n",
        "plt.figure(figsize=(12,4))\n",
        "plt.bar(label, result)\n",
        "plt.ylabel(\"Inference time\\n(msec)\")\n",
        "plt.ylim(13,15)\n",
        "plt.show()"
      ],
      "execution_count": null,
      "outputs": [
        {
          "output_type": "display_data",
          "data": {
            "image/png": "[encoded data removed]",
            "text/plain": [
              "<Figure size 864x288 with 1 Axes>"
            ]
          },
          "metadata": {
            "tags": [],
            "needs_background": "light"
          }
        }
      ]
    },
    {
      "cell_type": "markdown",
      "metadata": {
        "id": "UZ-mYJIpjefx",
        "colab_type": "text"
      },
      "source": [
        "#重みのサイズ"
      ]
    },
    {
      "cell_type": "code",
      "metadata": {
        "id": "bCKJvNFwlN65",
        "colab_type": "code",
        "colab": {}
      },
      "source": [
        "v2_small.save_weights('v2_small.h5')\n",
        "v2.save_weights('v2.h5')\n",
        "v3_small.save_weights('v3_small.h5')\n",
        "v3.save_weights('v3.h5')"
      ],
      "execution_count": null,
      "outputs": []
    },
    {
      "cell_type": "code",
      "metadata": {
        "id": "g2XM9YERjeuA",
        "colab_type": "code",
        "colab": {
          "base_uri": "https://localhost:8080/",
          "height": 215
        },
        "outputId": "34cc0d8c-754e-496c-ad43-72b1ad5ab2b6"
      },
      "source": [
        "ls -lS"
      ],
      "execution_count": null,
      "outputs": [
        {
          "output_type": "stream",
          "text": [
            "total 34972\n",
            "-rw-r--r-- 1 root root 11761904 Jul  2 12:33 v3.h5\n",
            "-rw-r--r-- 1 root root 11285912 Jul  2 12:33 v3_small.h5\n",
            "-rw-r--r-- 1 root root  9466096 Jul  2 12:33 v2.h5\n",
            "-rw-r--r-- 1 root root  3260656 Jul  2 12:33 v2_small.h5\n",
            "drwxr-xr-x 2 root root     4096 Jul  2 12:26 \u001b[0m\u001b[01;34mconfig\u001b[0m/\n",
            "drwxr-xr-x 2 root root     4096 Jul  2 12:26 \u001b[01;34mimages\u001b[0m/\n",
            "drwxr-xr-x 4 root root     4096 Jul  2 12:26 \u001b[01;34mmodel\u001b[0m/\n",
            "-rw-r--r-- 1 root root     3374 Jul  2 12:26 train_cls.py\n",
            "-rw-r--r-- 1 root root     1172 Jul  2 12:26 README.md\n",
            "-rw-r--r-- 1 root root     1062 Jul  2 12:26 LICENSE\n"
          ],
          "name": "stdout"
        }
      ]
    },
    {
      "cell_type": "markdown",
      "metadata": {
        "id": "AG9mIwWzjYF4",
        "colab_type": "text"
      },
      "source": [
        "#学習時間、精度"
      ]
    },
    {
      "cell_type": "code",
      "metadata": {
        "id": "Zt6ct9L-jYTI",
        "colab_type": "code",
        "colab": {
          "base_uri": "https://localhost:8080/",
          "height": 35
        },
        "outputId": "a1cc09b0-3775-4960-e3b3-717aa4861c48"
      },
      "source": [
        "print(\"v2(0.5)\")\n",
        "_, hist, time_ = train_V2(100, 0.5)\n",
        "acc = np.max(hist.history[\"val_acc\"])\n",
        "print(\"val_acc\", acc)\n",
        "print(\"time(epoch100)\", time_)"
      ],
      "execution_count": null,
      "outputs": [
        {
          "output_type": "stream",
          "text": [
            "v2(0.5)\n"
          ],
          "name": "stdout"
        }
      ]
    },
    {
      "cell_type": "code",
      "metadata": {
        "id": "seaChk6ynkpf",
        "colab_type": "code",
        "colab": {}
      },
      "source": [
        "print(\"v2(1)\")\n",
        "_, hist, time_ = train_V2(100, 1)\n",
        "acc = np.max(hist.history[\"val_acc\"])\n",
        "print(\"val_acc\", acc)\n",
        "print(\"time(epoch100)\", time_)"
      ],
      "execution_count": null,
      "outputs": []
    },
    {
      "cell_type": "code",
      "metadata": {
        "id": "8h25kTNvixU-",
        "colab_type": "code",
        "colab": {}
      },
      "source": [
        "print(\"v3(0.2)\")\n",
        "_, hist, time_ = train_V3(100, 0.2)\n",
        "acc = np.max(hist.history[\"val_acc\"])\n",
        "print(\"val_acc\", acc)\n",
        "print(\"time(epoch100)\", time_)"
      ],
      "execution_count": null,
      "outputs": []
    },
    {
      "cell_type": "code",
      "metadata": {
        "id": "UBvJvaI-iHIm",
        "colab_type": "code",
        "colab": {}
      },
      "source": [
        "print(\"v3(0.5)\")\n",
        "_, hist, time_ = train_V3(100, 0.5)\n",
        "acc = np.max(hist.history[\"val_acc\"])\n",
        "print(\"val_acc\", acc)\n",
        "print(\"time(epoch100)\", time_)"
      ],
      "execution_count": null,
      "outputs": []
    },
    {
      "cell_type": "code",
      "metadata": {
        "id": "nxp12EqigNj3",
        "colab_type": "code",
        "colab": {}
      },
      "source": [
        "v2_small_acc = [0.5068, 0.4105, 0.5211, 0.3914, 0.4519, 0.3061, 0.4618, 0.3107, 0.4946, 0.4022]\n",
        "v2_acc = [0.4695, 0.4089, 0.4686, 0.5503, 0.3838, 0.4817, 0.5499, 0.5005, 0.5078, 0.4876]\n",
        "v3_small_acc = [0.5157, 0.5688, 0.5139, 0.5061, 0.5511, 0.5467, 0.5659, 0.5549, 0.5472, 0.5369]\n",
        "v3_acc = [0.6362, 0.5961, 0.6106, 0.6240, 0.6431, 0.6302, 0.6086, 0.6247, 0.6234, 0.6419]\n",
        "\n",
        "plt.figure(figsize=(6,7))\n",
        "sns.set_context(\"notebook\",font_scale=2)\n",
        "sns.boxplot(x=[v2_small_acc, v2_acc, v3_small_acc, v3_acc], \n",
        "            y=[\"MobileNet V2\\n(alpha = 0.5)\",\"MobileNet V2\\n(alpha = 1)\", \"MobileNet V3\\nsmall(alpha = 0.2)\", \"MobileNet V3\\nsmall(alpha=0.5)\"])\n",
        "plt.xlabel(\"Accuracy\")\n",
        "plt.show()"
      ],
      "execution_count": null,
      "outputs": []
    }
  ]
}